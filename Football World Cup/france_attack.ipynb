{
 "cells": [
  {
   "cell_type": "markdown",
   "metadata": {},
   "source": [
    "# France's Effectiveness in Attack"
   ]
  },
  {
   "cell_type": "code",
   "execution_count": 1,
   "metadata": {},
   "outputs": [],
   "source": [
    "# import relevant libraries\n",
    "%matplotlib inline\n",
    "import json\n",
    "import matplotlib\n",
    "from pandas.io.json import json_normalize\n",
    "import numpy as np\n",
    "import seaborn as sns\n",
    "import pandas as pd\n",
    "import os\n",
    "from pathlib import Path\n",
    "import matplotlib.pyplot as plt\n",
    "from matplotlib.patches import Arc, Rectangle, ConnectionPatch\n",
    "from matplotlib.offsetbox import  OffsetImage\n",
    "import squarify\n",
    "from functools import reduce"
   ]
  },
  {
   "cell_type": "markdown",
   "metadata": {},
   "source": [
    "## Draw the pitch"
   ]
  },
  {
   "cell_type": "code",
   "execution_count": 2,
   "metadata": {},
   "outputs": [],
   "source": [
    "def draw_pitch(ax):\n",
    "    # size of the pitch is 120, 80\n",
    "    #Create figure\n",
    "\n",
    "    #Pitch Outline & Centre Line\n",
    "    plt.plot([0,0],[0,80], color=\"black\")\n",
    "    plt.plot([0,120],[80,80], color=\"black\")\n",
    "    plt.plot([120,120],[80,0], color=\"black\")\n",
    "    plt.plot([120,0],[0,0], color=\"black\")\n",
    "    plt.plot([60,60],[0,80], color=\"black\")\n",
    "\n",
    "    #Left Penalty Area\n",
    "    plt.plot([14.6,14.6],[57.8,22.2],color=\"black\")\n",
    "    plt.plot([0,14.6],[57.8,57.8],color=\"black\")\n",
    "    plt.plot([0,14.6],[22.2,22.2],color=\"black\")\n",
    "\n",
    "    #Right Penalty Area\n",
    "    plt.plot([120,105.4],[57.8,57.8],color=\"black\")\n",
    "    plt.plot([105.4,105.4],[57.8,22.5],color=\"black\")\n",
    "    plt.plot([120, 105.4],[22.5,22.5],color=\"black\")\n",
    "\n",
    "    #Left 6-yard Box\n",
    "    plt.plot([0,4.9],[48,48],color=\"black\")\n",
    "    plt.plot([4.9,4.9],[48,32],color=\"black\")\n",
    "    plt.plot([0,4.9],[32,32],color=\"black\")\n",
    "\n",
    "    #Right 6-yard Box\n",
    "    plt.plot([120,115.1],[48,48],color=\"black\")\n",
    "    plt.plot([115.1,115.1],[48,32],color=\"black\")\n",
    "    plt.plot([120,115.1],[32,32],color=\"black\")\n",
    "\n",
    "    #Prepare Circles\n",
    "    centreCircle = plt.Circle((60,40),8.1,color=\"black\",fill=False)\n",
    "    centreSpot = plt.Circle((60,40),0.71,color=\"black\")\n",
    "    leftPenSpot = plt.Circle((9.7,40),0.71,color=\"black\")\n",
    "    rightPenSpot = plt.Circle((110.3,40),0.71,color=\"black\")\n",
    "\n",
    "    #Draw Circles\n",
    "    ax.add_patch(centreCircle)\n",
    "    ax.add_patch(centreSpot)\n",
    "    ax.add_patch(leftPenSpot)\n",
    "    ax.add_patch(rightPenSpot)\n",
    "\n",
    "    #Prepare Arcs\n",
    "    # arguments for arc\n",
    "    # x, y coordinate of centerpoint of arc\n",
    "    # width, height as arc might not be circle, but oval\n",
    "    # angle: degree of rotation of the shape, anti-clockwise\n",
    "    # theta1, theta2, start and end location of arc in degree\n",
    "    leftArc = Arc((9.7,40),height=16.2,width=16.2,angle=0,theta1=310,theta2=50,color=\"black\")\n",
    "    rightArc = Arc((110.3,40),height=16.2,width=16.2,angle=0,theta1=130,theta2=230,color=\"black\")\n",
    "\n",
    "    #Draw Arcs\n",
    "    ax.add_patch(leftArc)\n",
    "    ax.add_patch(rightArc)  "
   ]
  },
  {
   "cell_type": "markdown",
   "metadata": {},
   "source": [
    "## Plotting all shots"
   ]
  },
  {
   "cell_type": "code",
   "execution_count": 3,
   "metadata": {},
   "outputs": [],
   "source": [
    "data_id = [7546, 7563, 8655, 8658, 7530, 7580, 8649]\n",
    "\n",
    "directory = '/Users/steven/Documents/Developer/data_science/football/data/raw/'\n",
    "\n",
    "# consequently read the json and concatenate into a pre-defined dataframe\n",
    "all_france = pd.DataFrame()\n",
    "for i in data_id:\n",
    "    with open(directory + str(i) + '.json') as data_file:\n",
    "        data = json.load(data_file)\n",
    "    df = json_normalize(data, sep = '_')\n",
    "    if all_france.empty:\n",
    "        all_france = df\n",
    "    else:\n",
    "        all_france = pd.concat([all_france, df], join = 'outer', sort = False)"
   ]
  },
  {
   "cell_type": "code",
   "execution_count": 4,
   "metadata": {},
   "outputs": [
    {
     "data": {
      "image/png": "[encoded data removed]",
      "text/plain": [
       "<Figure size 504x360 with 1 Axes>"
      ]
     },
     "metadata": {
      "needs_background": "light"
     },
     "output_type": "display_data"
    }
   ],
   "source": [
    "shot_data = all_france[(all_france['type_name'] == \"Shot\") & (all_france['team_name'] == 'France')]\n",
    "\n",
    "fig=plt.figure()\n",
    "fig.set_size_inches(7, 5)\n",
    "ax=fig.add_subplot(1,1,1)\n",
    "draw_pitch(ax)\n",
    "plt.axis('off')\n",
    "\n",
    "for i in range(len(shot_data)):\n",
    "    # can also differentiate different half by different color\n",
    "    color = \"red\" if shot_data.iloc[i]['shot_outcome_name'] == \"Goal\" else \"black\"\n",
    "    ax.annotate(\"\", xy = (shot_data.iloc[i]['shot_end_location'][0], shot_data.iloc[i]['shot_end_location'][1]), xycoords = 'data',\n",
    "           xytext = (shot_data.iloc[i]['location'][0], shot_data.iloc[i]['location'][1]), textcoords = 'data',\n",
    "           arrowprops=dict(arrowstyle=\"->\",connectionstyle=\"arc3\", color = color),)\n",
    "plt.ylim(0, 80)\n",
    "plt.xlim(0, 120)\n",
    "plt.show()"
   ]
  },
  {
   "cell_type": "markdown",
   "metadata": {},
   "source": [
    "### The plot is not terribly useful but we can see that a majority of the French goals came from inside the 6-yard boxes. Even though they attempted a lot of long-range efforts, only three found the back of the net, including the stunner by Pavard during the semi-final "
   ]
  },
  {
   "cell_type": "code",
   "execution_count": 6,
   "metadata": {},
   "outputs": [],
   "source": [
    "def draw_half_pitch(ax):\n",
    "    # focus on only half of the pitch\n",
    "    #Pitch Outline & Centre Line\n",
    "    Pitch = Rectangle([60,0], width = 60, height = 80, fill = False)\n",
    "    \n",
    "    #Right Penalty Area\n",
    "    RightPenalty = Rectangle([105.4,22.3], width = 14.6, height = 35.3, fill = False)\n",
    "\n",
    "    #Right 6-yard Box\n",
    "    RightSixYard = Rectangle([115.1,32], width = 4.9, height = 16, fill = False)\n",
    "\n",
    "\n",
    "    #Prepare Circles\n",
    "    centreCircle = Arc((60,40),width = 8.1, height = 8.1, angle=0,theta1=270,theta2=90,color=\"black\")\n",
    "    centreSpot = plt.Circle((60,40),0.71,color=\"black\")\n",
    "    rightPenSpot = plt.Circle((110.3,40),0.71,color=\"black\")\n",
    "    rightArc = Arc((110.3,40),height=16.2,width=16.2,angle=0,theta1=130,theta2=230,color=\"black\")\n",
    "    \n",
    "    element = [Pitch, RightPenalty, RightSixYard, centreCircle, centreSpot, rightPenSpot, rightArc]\n",
    "    for i in element:\n",
    "        ax.add_patch(i)"
   ]
  },
  {
   "cell_type": "code",
   "execution_count": 15,
   "metadata": {},
   "outputs": [
    {
     "data": {
      "image/png": "[encoded data removed]",
      "text/plain": [
       "<Figure size 504x360 with 1 Axes>"
      ]
     },
     "metadata": {
      "needs_background": "light"
     },
     "output_type": "display_data"
    }
   ],
   "source": [
    "fig=plt.figure()\n",
    "fig.set_size_inches(7, 5)\n",
    "ax=fig.add_subplot(1,1,1)\n",
    "draw_half_pitch(ax)\n",
    "plt.axis('off')\n",
    "\n",
    "# draw the scatter plot for goals\n",
    "x_coord_goal = [location[0] for i, location in enumerate(shot_data[\"location\"]) if shot_data.iloc[i]['shot_outcome_name'] == \"Goal\"]\n",
    "y_coord_goal = [location[1] for i, location in enumerate(shot_data[\"location\"]) if shot_data.iloc[i]['shot_outcome_name'] == \"Goal\"]\n",
    "\n",
    "# shots that end up with no goal\n",
    "x_coord = [location[0] for i, location in enumerate(shot_data[\"location\"]) if shot_data.iloc[i]['shot_outcome_name'] != \"Goal\"]\n",
    "y_coord = [location[1] for i, location in enumerate(shot_data[\"location\"]) if shot_data.iloc[i]['shot_outcome_name'] != \"Goal\"]\n",
    "\n",
    "# put the two scatter plots on to the pitch\n",
    "ax.scatter(x_coord_goal, y_coord_goal, c = 'red', label = 'goal')\n",
    "ax.scatter(x_coord, y_coord, c = 'blue', label = 'shots')\n",
    "plt.ylim(-.5, 80)\n",
    "plt.xlim(-.5, 130)\n",
    "plt.legend(loc = 'best')\n",
    "plt.axis('off')\n",
    "plt.show()"
   ]
  },
  {
   "cell_type": "code",
   "execution_count": 11,
   "metadata": {},
   "outputs": [
    {
     "data": {
      "image/png": "[encoded data removed]",
      "text/plain": [
       "<Figure size 504x360 with 3 Axes>"
      ]
     },
     "metadata": {
      "needs_background": "light"
     },
     "output_type": "display_data"
    }
   ],
   "source": [
    "# we use a joint plot to see the density of the shot distribution across the 2 axes of the pitch\n",
    "joint_shot_chart = sns.jointplot(x_coord, y_coord, stat_func=None,\n",
    "                                 kind='scatter', space=0, alpha=0.5)\n",
    "joint_shot_chart.fig.set_size_inches(7,5)\n",
    "ax = joint_shot_chart.ax_joint\n",
    "\n",
    "# overlaying the plot with a pitch\n",
    "draw_half_pitch(ax)\n",
    "ax.set_xlim(0.5,120.5)\n",
    "ax.set_ylim(0.5,80.5)\n",
    "\n",
    "# draw the scatter plot for goals\n",
    "x_coord_goal = [location[0] for i, location in enumerate(shot_data[\"location\"]) if shot_data.iloc[i]['shot_outcome_name'] == \"Goal\"]\n",
    "y_coord_goal = [location[1] for i, location in enumerate(shot_data[\"location\"]) if shot_data.iloc[i]['shot_outcome_name'] == \"Goal\"]\n",
    "\n",
    "# shots that end up with no goal\n",
    "x_coord = [location[0] for i, location in enumerate(shot_data[\"location\"]) if shot_data.iloc[i]['shot_outcome_name'] != \"Goal\"]\n",
    "y_coord = [location[1] for i, location in enumerate(shot_data[\"location\"]) if shot_data.iloc[i]['shot_outcome_name'] != \"Goal\"]\n",
    "\n",
    "# put the two scatter plots on to the pitch\n",
    "ax.scatter(x_coord, y_coord, c = 'b', label = 'shots')\n",
    "ax.scatter(x_coord_goal, y_coord_goal, c = 'r', label = 'goal')\n",
    "\n",
    "# Get rid of axis labels and tick marks\n",
    "ax.set_xlabel('')\n",
    "ax.set_ylabel('')\n",
    "joint_shot_chart.ax_marg_x.set_axis_off()\n",
    "ax.set_axis_off()\n",
    "plt.ylim(-.5, 80)\n",
    "plt.axis('off')\n",
    "plt.show()"
   ]
  }
 ],
 "metadata": {
  "kernelspec": {
   "display_name": "Python 3",
   "language": "python",
   "name": "python3"
  },
  "language_info": {
   "codemirror_mode": {
    "name": "ipython",
    "version": 3
   },
   "file_extension": ".py",
   "mimetype": "text/x-python",
   "name": "python",
   "nbconvert_exporter": "python",
   "pygments_lexer": "ipython3",
   "version": "3.7.3"
  }
 },
 "nbformat": 4,
 "nbformat_minor": 2
}
